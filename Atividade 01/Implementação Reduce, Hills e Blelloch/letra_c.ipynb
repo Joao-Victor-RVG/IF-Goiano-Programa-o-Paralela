{
 "cells": [
  {
   "cell_type": "code",
   "execution_count": null,
   "metadata": {},
   "outputs": [],
   "source": [
    "import numpy as np\n",
    "import cupy as cp\n",
    "import time\n",
    "\n",
    "# Função para calcular o prefix sum (Hillis-Steele) usando CUDA com cupy\n",
    "def hillis_steele_cuda(arr):\n",
    "    arr_gpu = cp.array(arr)  # Transferindo o array para a GPU\n",
    "    steps = 0  # Contador de passos\n",
    "    start_time = time.time()\n",
    "\n",
    "    # Prefix sum paralelo com deslocamento\n",
    "    step = 1\n",
    "    while step < arr_gpu.size:\n",
    "        # Realiza o somatório com o valor deslocado em 2^step\n",
    "        shifted = cp.roll(arr_gpu, step)\n",
    "        arr_gpu += shifted\n",
    "        # Convert the NumPy slice to a CuPy array before assignment\n",
    "        arr_gpu[:step] = cp.array(arr[:step])  # Manter os primeiros valores originais\n",
    "        step *= 2\n",
    "        steps += 1\n",
    "\n",
    "    end_time = time.time()\n",
    "\n",
    "    # Registrando tempo de execução e quantidade de trabalho\n",
    "    execution_time = end_time - start_time\n",
    "    work_done = steps * arr_gpu.size  # Estimativa do trabalho total realizado\n",
    "\n",
    "    return arr_gpu.get(), execution_time, work_done, steps  # Retornando os dados para a CPU\n",
    "\n",
    "# Tamanhos dos arrays para teste\n",
    "sizes = [100, 1000, 10000, 100000, 1000000, 10000000]\n",
    "\n",
    "# Teste para cada tamanho de array\n",
    "for size in sizes:\n",
    "    arr = np.random.randint(1, 100, size)  # Gerando um array aleatório\n",
    "    result, exec_time, work, steps = hillis_steele_cuda(arr)\n",
    "\n",
    "    print(f\"Tamanho do Array: {size}\")\n",
    "    print(f\"Tempo de Execução: {exec_time:.4f} segundos\")\n",
    "    print(f\"Quantidade de Trabalho: {work}\")\n",
    "    print(f\"Número de Etapas: {steps}\")\n",
    "    print(\"-\" * 50)"
   ]
  }
 ],
 "metadata": {
  "language_info": {
   "name": "python"
  }
 },
 "nbformat": 4,
 "nbformat_minor": 2
}
